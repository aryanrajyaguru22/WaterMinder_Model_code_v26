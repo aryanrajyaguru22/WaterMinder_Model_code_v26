{
  "nbformat": 4,
  "nbformat_minor": 0,
  "metadata": {
    "colab": {
      "provenance": [],
      "gpuType": "V28"
    },
    "kernelspec": {
      "name": "python3",
      "display_name": "Python 3"
    },
    "language_info": {
      "name": "python"
    },
    "accelerator": "TPU"
  },
  "cells": [
    {
      "cell_type": "code",
      "execution_count": null,
      "metadata": {
        "colab": {
          "base_uri": "https://localhost:8080/"
        },
        "id": "q35P4AKLDhzV",
        "outputId": "ff1cec97-6d03-42dc-a636-720b19429ae7"
      },
      "outputs": [
        {
          "output_type": "stream",
          "name": "stdout",
          "text": [
            "Mounted at /content/drive\n"
          ]
        }
      ],
      "source": [
        "from google.colab import drive\n",
        "drive.mount('/content/drive')"
      ]
    },
    {
      "cell_type": "code",
      "source": [
        "# Upgrade pip to the latest version\n",
        "!pip install --upgrade pip\n",
        "\n",
        "# Install libraries from your requirements file located in Google Drive\n",
        "!pip install -r '/content/drive/MyDrive/WaterMinder_Toolkit_V26/requirements.txt'\n",
        "\n",
        "# Install the StrEnum backport for compatibility\n",
        "!pip install StrEnum"
      ],
      "metadata": {
        "colab": {
          "base_uri": "https://localhost:8080/"
        },
        "id": "N0uCyl2wF5i2",
        "outputId": "cd996699-a1f0-432b-bf7a-ea9fbd20d147"
      },
      "execution_count": null,
      "outputs": [
        {
          "output_type": "stream",
          "name": "stdout",
          "text": [
            "Requirement already satisfied: pip in /usr/local/lib/python3.12/dist-packages (24.1.2)\n",
            "Collecting pip\n",
            "  Downloading pip-25.2-py3-none-any.whl.metadata (4.7 kB)\n",
            "Downloading pip-25.2-py3-none-any.whl (1.8 MB)\n",
            "\u001b[2K   \u001b[90m━━━━━━━━━━━━━━━━━━━━━━━━━━━━━━━━━━━━━━━━\u001b[0m \u001b[32m1.8/1.8 MB\u001b[0m \u001b[31m14.8 MB/s\u001b[0m eta \u001b[36m0:00:00\u001b[0m\n",
            "\u001b[?25hInstalling collected packages: pip\n",
            "  Attempting uninstall: pip\n",
            "    Found existing installation: pip 24.1.2\n",
            "    Uninstalling pip-24.1.2:\n",
            "      Successfully uninstalled pip-24.1.2\n",
            "Successfully installed pip-25.2\n",
            "Requirement already satisfied: tqdm in /usr/local/lib/python3.12/dist-packages (from -r /content/drive/MyDrive/WaterMinder_Toolkit_V26/requirements.txt (line 1)) (4.67.1)\n",
            "Requirement already satisfied: sentencepiece in /usr/local/lib/python3.12/dist-packages (from -r /content/drive/MyDrive/WaterMinder_Toolkit_V26/requirements.txt (line 2)) (0.2.1)\n",
            "Requirement already satisfied: notebook in /usr/local/lib/python3.12/dist-packages (from -r /content/drive/MyDrive/WaterMinder_Toolkit_V26/requirements.txt (line 3)) (6.5.7)\n",
            "Requirement already satisfied: pydantic in /usr/local/lib/python3.12/dist-packages (from -r /content/drive/MyDrive/WaterMinder_Toolkit_V26/requirements.txt (line 4)) (2.11.7)\n",
            "Collecting coremltools==8.3.0 (from -r /content/drive/MyDrive/WaterMinder_Toolkit_V26/requirements.txt (line 5))\n",
            "  Downloading coremltools-8.3.0-cp312-none-manylinux1_x86_64.whl.metadata (2.6 kB)\n",
            "Requirement already satisfied: torch>=2.6 in /usr/local/lib/python3.12/dist-packages (from -r /content/drive/MyDrive/WaterMinder_Toolkit_V26/requirements.txt (line 6)) (2.8.0+cu126)\n",
            "Collecting tamm~=0.1.0 (from -r /content/drive/MyDrive/WaterMinder_Toolkit_V26/requirements.txt (line 7))\n",
            "  Downloading tamm-0.1.0-py3-none-any.whl.metadata (1.2 kB)\n",
            "Requirement already satisfied: numpy>=1.14.5 in /usr/local/lib/python3.12/dist-packages (from coremltools==8.3.0->-r /content/drive/MyDrive/WaterMinder_Toolkit_V26/requirements.txt (line 5)) (2.0.2)\n",
            "Requirement already satisfied: protobuf>=3.1.0 in /usr/local/lib/python3.12/dist-packages (from coremltools==8.3.0->-r /content/drive/MyDrive/WaterMinder_Toolkit_V26/requirements.txt (line 5)) (5.29.5)\n",
            "Requirement already satisfied: sympy in /usr/local/lib/python3.12/dist-packages (from coremltools==8.3.0->-r /content/drive/MyDrive/WaterMinder_Toolkit_V26/requirements.txt (line 5)) (1.13.3)\n",
            "Requirement already satisfied: packaging in /usr/local/lib/python3.12/dist-packages (from coremltools==8.3.0->-r /content/drive/MyDrive/WaterMinder_Toolkit_V26/requirements.txt (line 5)) (25.0)\n",
            "Requirement already satisfied: attrs>=21.3.0 in /usr/local/lib/python3.12/dist-packages (from coremltools==8.3.0->-r /content/drive/MyDrive/WaterMinder_Toolkit_V26/requirements.txt (line 5)) (25.3.0)\n",
            "Collecting cattrs (from coremltools==8.3.0->-r /content/drive/MyDrive/WaterMinder_Toolkit_V26/requirements.txt (line 5))\n",
            "  Downloading cattrs-25.1.1-py3-none-any.whl.metadata (8.4 kB)\n",
            "Collecting pyaml (from coremltools==8.3.0->-r /content/drive/MyDrive/WaterMinder_Toolkit_V26/requirements.txt (line 5))\n",
            "  Downloading pyaml-25.7.0-py3-none-any.whl.metadata (12 kB)\n",
            "Requirement already satisfied: jinja2 in /usr/local/lib/python3.12/dist-packages (from tamm~=0.1.0->-r /content/drive/MyDrive/WaterMinder_Toolkit_V26/requirements.txt (line 7)) (3.1.6)\n",
            "Requirement already satisfied: filelock in /usr/local/lib/python3.12/dist-packages (from tamm~=0.1.0->-r /content/drive/MyDrive/WaterMinder_Toolkit_V26/requirements.txt (line 7)) (3.19.1)\n",
            "Requirement already satisfied: wrapt in /usr/local/lib/python3.12/dist-packages (from tamm~=0.1.0->-r /content/drive/MyDrive/WaterMinder_Toolkit_V26/requirements.txt (line 7)) (1.17.3)\n",
            "Collecting coloredlogs (from tamm~=0.1.0->-r /content/drive/MyDrive/WaterMinder_Toolkit_V26/requirements.txt (line 7))\n",
            "  Downloading coloredlogs-15.0.1-py2.py3-none-any.whl.metadata (12 kB)\n",
            "Requirement already satisfied: tornado>=6.1 in /usr/local/lib/python3.12/dist-packages (from notebook->-r /content/drive/MyDrive/WaterMinder_Toolkit_V26/requirements.txt (line 3)) (6.4.2)\n",
            "Requirement already satisfied: pyzmq>=17 in /usr/local/lib/python3.12/dist-packages (from notebook->-r /content/drive/MyDrive/WaterMinder_Toolkit_V26/requirements.txt (line 3)) (26.2.1)\n",
            "Requirement already satisfied: argon2-cffi in /usr/local/lib/python3.12/dist-packages (from notebook->-r /content/drive/MyDrive/WaterMinder_Toolkit_V26/requirements.txt (line 3)) (25.1.0)\n",
            "Requirement already satisfied: traitlets>=4.2.1 in /usr/local/lib/python3.12/dist-packages (from notebook->-r /content/drive/MyDrive/WaterMinder_Toolkit_V26/requirements.txt (line 3)) (5.7.1)\n",
            "Requirement already satisfied: jupyter-core>=4.6.1 in /usr/local/lib/python3.12/dist-packages (from notebook->-r /content/drive/MyDrive/WaterMinder_Toolkit_V26/requirements.txt (line 3)) (5.8.1)\n",
            "Requirement already satisfied: jupyter-client<8,>=5.3.4 in /usr/local/lib/python3.12/dist-packages (from notebook->-r /content/drive/MyDrive/WaterMinder_Toolkit_V26/requirements.txt (line 3)) (6.1.12)\n",
            "Requirement already satisfied: ipython-genutils in /usr/local/lib/python3.12/dist-packages (from notebook->-r /content/drive/MyDrive/WaterMinder_Toolkit_V26/requirements.txt (line 3)) (0.2.0)\n",
            "Requirement already satisfied: nbformat in /usr/local/lib/python3.12/dist-packages (from notebook->-r /content/drive/MyDrive/WaterMinder_Toolkit_V26/requirements.txt (line 3)) (5.10.4)\n",
            "Requirement already satisfied: nbconvert>=5 in /usr/local/lib/python3.12/dist-packages (from notebook->-r /content/drive/MyDrive/WaterMinder_Toolkit_V26/requirements.txt (line 3)) (7.16.6)\n",
            "Requirement already satisfied: nest-asyncio>=1.5 in /usr/local/lib/python3.12/dist-packages (from notebook->-r /content/drive/MyDrive/WaterMinder_Toolkit_V26/requirements.txt (line 3)) (1.6.0)\n",
            "Requirement already satisfied: ipykernel in /usr/local/lib/python3.12/dist-packages (from notebook->-r /content/drive/MyDrive/WaterMinder_Toolkit_V26/requirements.txt (line 3)) (6.17.1)\n",
            "Requirement already satisfied: Send2Trash>=1.8.0 in /usr/local/lib/python3.12/dist-packages (from notebook->-r /content/drive/MyDrive/WaterMinder_Toolkit_V26/requirements.txt (line 3)) (1.8.3)\n",
            "Requirement already satisfied: terminado>=0.8.3 in /usr/local/lib/python3.12/dist-packages (from notebook->-r /content/drive/MyDrive/WaterMinder_Toolkit_V26/requirements.txt (line 3)) (0.18.1)\n",
            "Requirement already satisfied: prometheus-client in /usr/local/lib/python3.12/dist-packages (from notebook->-r /content/drive/MyDrive/WaterMinder_Toolkit_V26/requirements.txt (line 3)) (0.22.1)\n",
            "Requirement already satisfied: nbclassic>=0.4.7 in /usr/local/lib/python3.12/dist-packages (from notebook->-r /content/drive/MyDrive/WaterMinder_Toolkit_V26/requirements.txt (line 3)) (1.3.1)\n",
            "Requirement already satisfied: python-dateutil>=2.1 in /usr/local/lib/python3.12/dist-packages (from jupyter-client<8,>=5.3.4->notebook->-r /content/drive/MyDrive/WaterMinder_Toolkit_V26/requirements.txt (line 3)) (2.9.0.post0)\n",
            "Requirement already satisfied: annotated-types>=0.6.0 in /usr/local/lib/python3.12/dist-packages (from pydantic->-r /content/drive/MyDrive/WaterMinder_Toolkit_V26/requirements.txt (line 4)) (0.7.0)\n",
            "Requirement already satisfied: pydantic-core==2.33.2 in /usr/local/lib/python3.12/dist-packages (from pydantic->-r /content/drive/MyDrive/WaterMinder_Toolkit_V26/requirements.txt (line 4)) (2.33.2)\n",
            "Requirement already satisfied: typing-extensions>=4.12.2 in /usr/local/lib/python3.12/dist-packages (from pydantic->-r /content/drive/MyDrive/WaterMinder_Toolkit_V26/requirements.txt (line 4)) (4.14.1)\n",
            "Requirement already satisfied: typing-inspection>=0.4.0 in /usr/local/lib/python3.12/dist-packages (from pydantic->-r /content/drive/MyDrive/WaterMinder_Toolkit_V26/requirements.txt (line 4)) (0.4.1)\n",
            "Requirement already satisfied: setuptools in /usr/local/lib/python3.12/dist-packages (from torch>=2.6->-r /content/drive/MyDrive/WaterMinder_Toolkit_V26/requirements.txt (line 6)) (75.2.0)\n",
            "Requirement already satisfied: networkx in /usr/local/lib/python3.12/dist-packages (from torch>=2.6->-r /content/drive/MyDrive/WaterMinder_Toolkit_V26/requirements.txt (line 6)) (3.5)\n",
            "Requirement already satisfied: fsspec in /usr/local/lib/python3.12/dist-packages (from torch>=2.6->-r /content/drive/MyDrive/WaterMinder_Toolkit_V26/requirements.txt (line 6)) (2025.3.0)\n",
            "Requirement already satisfied: nvidia-cuda-nvrtc-cu12==12.6.77 in /usr/local/lib/python3.12/dist-packages (from torch>=2.6->-r /content/drive/MyDrive/WaterMinder_Toolkit_V26/requirements.txt (line 6)) (12.6.77)\n",
            "Requirement already satisfied: nvidia-cuda-runtime-cu12==12.6.77 in /usr/local/lib/python3.12/dist-packages (from torch>=2.6->-r /content/drive/MyDrive/WaterMinder_Toolkit_V26/requirements.txt (line 6)) (12.6.77)\n",
            "Requirement already satisfied: nvidia-cuda-cupti-cu12==12.6.80 in /usr/local/lib/python3.12/dist-packages (from torch>=2.6->-r /content/drive/MyDrive/WaterMinder_Toolkit_V26/requirements.txt (line 6)) (12.6.80)\n",
            "Requirement already satisfied: nvidia-cudnn-cu12==9.10.2.21 in /usr/local/lib/python3.12/dist-packages (from torch>=2.6->-r /content/drive/MyDrive/WaterMinder_Toolkit_V26/requirements.txt (line 6)) (9.10.2.21)\n",
            "Requirement already satisfied: nvidia-cublas-cu12==12.6.4.1 in /usr/local/lib/python3.12/dist-packages (from torch>=2.6->-r /content/drive/MyDrive/WaterMinder_Toolkit_V26/requirements.txt (line 6)) (12.6.4.1)\n",
            "Requirement already satisfied: nvidia-cufft-cu12==11.3.0.4 in /usr/local/lib/python3.12/dist-packages (from torch>=2.6->-r /content/drive/MyDrive/WaterMinder_Toolkit_V26/requirements.txt (line 6)) (11.3.0.4)\n",
            "Requirement already satisfied: nvidia-curand-cu12==10.3.7.77 in /usr/local/lib/python3.12/dist-packages (from torch>=2.6->-r /content/drive/MyDrive/WaterMinder_Toolkit_V26/requirements.txt (line 6)) (10.3.7.77)\n",
            "Requirement already satisfied: nvidia-cusolver-cu12==11.7.1.2 in /usr/local/lib/python3.12/dist-packages (from torch>=2.6->-r /content/drive/MyDrive/WaterMinder_Toolkit_V26/requirements.txt (line 6)) (11.7.1.2)\n",
            "Requirement already satisfied: nvidia-cusparse-cu12==12.5.4.2 in /usr/local/lib/python3.12/dist-packages (from torch>=2.6->-r /content/drive/MyDrive/WaterMinder_Toolkit_V26/requirements.txt (line 6)) (12.5.4.2)\n",
            "Requirement already satisfied: nvidia-cusparselt-cu12==0.7.1 in /usr/local/lib/python3.12/dist-packages (from torch>=2.6->-r /content/drive/MyDrive/WaterMinder_Toolkit_V26/requirements.txt (line 6)) (0.7.1)\n",
            "Requirement already satisfied: nvidia-nccl-cu12==2.27.3 in /usr/local/lib/python3.12/dist-packages (from torch>=2.6->-r /content/drive/MyDrive/WaterMinder_Toolkit_V26/requirements.txt (line 6)) (2.27.3)\n",
            "Requirement already satisfied: nvidia-nvtx-cu12==12.6.77 in /usr/local/lib/python3.12/dist-packages (from torch>=2.6->-r /content/drive/MyDrive/WaterMinder_Toolkit_V26/requirements.txt (line 6)) (12.6.77)\n",
            "Requirement already satisfied: nvidia-nvjitlink-cu12==12.6.85 in /usr/local/lib/python3.12/dist-packages (from torch>=2.6->-r /content/drive/MyDrive/WaterMinder_Toolkit_V26/requirements.txt (line 6)) (12.6.85)\n",
            "Requirement already satisfied: nvidia-cufile-cu12==1.11.1.6 in /usr/local/lib/python3.12/dist-packages (from torch>=2.6->-r /content/drive/MyDrive/WaterMinder_Toolkit_V26/requirements.txt (line 6)) (1.11.1.6)\n",
            "Requirement already satisfied: triton==3.4.0 in /usr/local/lib/python3.12/dist-packages (from torch>=2.6->-r /content/drive/MyDrive/WaterMinder_Toolkit_V26/requirements.txt (line 6)) (3.4.0)\n",
            "Requirement already satisfied: platformdirs>=2.5 in /usr/local/lib/python3.12/dist-packages (from jupyter-core>=4.6.1->notebook->-r /content/drive/MyDrive/WaterMinder_Toolkit_V26/requirements.txt (line 3)) (4.3.8)\n",
            "Requirement already satisfied: notebook-shim>=0.2.3 in /usr/local/lib/python3.12/dist-packages (from nbclassic>=0.4.7->notebook->-r /content/drive/MyDrive/WaterMinder_Toolkit_V26/requirements.txt (line 3)) (0.2.4)\n",
            "Requirement already satisfied: beautifulsoup4 in /usr/local/lib/python3.12/dist-packages (from nbconvert>=5->notebook->-r /content/drive/MyDrive/WaterMinder_Toolkit_V26/requirements.txt (line 3)) (4.13.4)\n",
            "Requirement already satisfied: bleach!=5.0.0 in /usr/local/lib/python3.12/dist-packages (from bleach[css]!=5.0.0->nbconvert>=5->notebook->-r /content/drive/MyDrive/WaterMinder_Toolkit_V26/requirements.txt (line 3)) (6.2.0)\n",
            "Requirement already satisfied: defusedxml in /usr/local/lib/python3.12/dist-packages (from nbconvert>=5->notebook->-r /content/drive/MyDrive/WaterMinder_Toolkit_V26/requirements.txt (line 3)) (0.7.1)\n",
            "Requirement already satisfied: jupyterlab-pygments in /usr/local/lib/python3.12/dist-packages (from nbconvert>=5->notebook->-r /content/drive/MyDrive/WaterMinder_Toolkit_V26/requirements.txt (line 3)) (0.3.0)\n",
            "Requirement already satisfied: markupsafe>=2.0 in /usr/local/lib/python3.12/dist-packages (from nbconvert>=5->notebook->-r /content/drive/MyDrive/WaterMinder_Toolkit_V26/requirements.txt (line 3)) (3.0.2)\n",
            "Requirement already satisfied: mistune<4,>=2.0.3 in /usr/local/lib/python3.12/dist-packages (from nbconvert>=5->notebook->-r /content/drive/MyDrive/WaterMinder_Toolkit_V26/requirements.txt (line 3)) (3.1.3)\n",
            "Requirement already satisfied: nbclient>=0.5.0 in /usr/local/lib/python3.12/dist-packages (from nbconvert>=5->notebook->-r /content/drive/MyDrive/WaterMinder_Toolkit_V26/requirements.txt (line 3)) (0.10.2)\n",
            "Requirement already satisfied: pandocfilters>=1.4.1 in /usr/local/lib/python3.12/dist-packages (from nbconvert>=5->notebook->-r /content/drive/MyDrive/WaterMinder_Toolkit_V26/requirements.txt (line 3)) (1.5.1)\n",
            "Requirement already satisfied: pygments>=2.4.1 in /usr/local/lib/python3.12/dist-packages (from nbconvert>=5->notebook->-r /content/drive/MyDrive/WaterMinder_Toolkit_V26/requirements.txt (line 3)) (2.19.2)\n",
            "Requirement already satisfied: webencodings in /usr/local/lib/python3.12/dist-packages (from bleach!=5.0.0->bleach[css]!=5.0.0->nbconvert>=5->notebook->-r /content/drive/MyDrive/WaterMinder_Toolkit_V26/requirements.txt (line 3)) (0.5.1)\n",
            "Requirement already satisfied: tinycss2<1.5,>=1.1.0 in /usr/local/lib/python3.12/dist-packages (from bleach[css]!=5.0.0->nbconvert>=5->notebook->-r /content/drive/MyDrive/WaterMinder_Toolkit_V26/requirements.txt (line 3)) (1.4.0)\n",
            "Requirement already satisfied: fastjsonschema>=2.15 in /usr/local/lib/python3.12/dist-packages (from nbformat->notebook->-r /content/drive/MyDrive/WaterMinder_Toolkit_V26/requirements.txt (line 3)) (2.21.2)\n",
            "Requirement already satisfied: jsonschema>=2.6 in /usr/local/lib/python3.12/dist-packages (from nbformat->notebook->-r /content/drive/MyDrive/WaterMinder_Toolkit_V26/requirements.txt (line 3)) (4.25.0)\n",
            "Requirement already satisfied: jsonschema-specifications>=2023.03.6 in /usr/local/lib/python3.12/dist-packages (from jsonschema>=2.6->nbformat->notebook->-r /content/drive/MyDrive/WaterMinder_Toolkit_V26/requirements.txt (line 3)) (2025.4.1)\n",
            "Requirement already satisfied: referencing>=0.28.4 in /usr/local/lib/python3.12/dist-packages (from jsonschema>=2.6->nbformat->notebook->-r /content/drive/MyDrive/WaterMinder_Toolkit_V26/requirements.txt (line 3)) (0.36.2)\n",
            "Requirement already satisfied: rpds-py>=0.7.1 in /usr/local/lib/python3.12/dist-packages (from jsonschema>=2.6->nbformat->notebook->-r /content/drive/MyDrive/WaterMinder_Toolkit_V26/requirements.txt (line 3)) (0.27.0)\n",
            "Requirement already satisfied: jupyter-server<3,>=1.8 in /usr/local/lib/python3.12/dist-packages (from notebook-shim>=0.2.3->nbclassic>=0.4.7->notebook->-r /content/drive/MyDrive/WaterMinder_Toolkit_V26/requirements.txt (line 3)) (1.16.0)\n",
            "Requirement already satisfied: anyio>=3.1.0 in /usr/local/lib/python3.12/dist-packages (from jupyter-server<3,>=1.8->notebook-shim>=0.2.3->nbclassic>=0.4.7->notebook->-r /content/drive/MyDrive/WaterMinder_Toolkit_V26/requirements.txt (line 3)) (4.10.0)\n",
            "Requirement already satisfied: websocket-client in /usr/local/lib/python3.12/dist-packages (from jupyter-server<3,>=1.8->notebook-shim>=0.2.3->nbclassic>=0.4.7->notebook->-r /content/drive/MyDrive/WaterMinder_Toolkit_V26/requirements.txt (line 3)) (1.8.0)\n",
            "Requirement already satisfied: idna>=2.8 in /usr/local/lib/python3.12/dist-packages (from anyio>=3.1.0->jupyter-server<3,>=1.8->notebook-shim>=0.2.3->nbclassic>=0.4.7->notebook->-r /content/drive/MyDrive/WaterMinder_Toolkit_V26/requirements.txt (line 3)) (3.10)\n",
            "Requirement already satisfied: sniffio>=1.1 in /usr/local/lib/python3.12/dist-packages (from anyio>=3.1.0->jupyter-server<3,>=1.8->notebook-shim>=0.2.3->nbclassic>=0.4.7->notebook->-r /content/drive/MyDrive/WaterMinder_Toolkit_V26/requirements.txt (line 3)) (1.3.1)\n",
            "Requirement already satisfied: six>=1.5 in /usr/local/lib/python3.12/dist-packages (from python-dateutil>=2.1->jupyter-client<8,>=5.3.4->notebook->-r /content/drive/MyDrive/WaterMinder_Toolkit_V26/requirements.txt (line 3)) (1.17.0)\n",
            "Requirement already satisfied: mpmath<1.4,>=1.1.0 in /usr/local/lib/python3.12/dist-packages (from sympy->coremltools==8.3.0->-r /content/drive/MyDrive/WaterMinder_Toolkit_V26/requirements.txt (line 5)) (1.3.0)\n",
            "Requirement already satisfied: ptyprocess in /usr/local/lib/python3.12/dist-packages (from terminado>=0.8.3->notebook->-r /content/drive/MyDrive/WaterMinder_Toolkit_V26/requirements.txt (line 3)) (0.7.0)\n",
            "Requirement already satisfied: argon2-cffi-bindings in /usr/local/lib/python3.12/dist-packages (from argon2-cffi->notebook->-r /content/drive/MyDrive/WaterMinder_Toolkit_V26/requirements.txt (line 3)) (25.1.0)\n",
            "Requirement already satisfied: cffi>=1.0.1 in /usr/local/lib/python3.12/dist-packages (from argon2-cffi-bindings->argon2-cffi->notebook->-r /content/drive/MyDrive/WaterMinder_Toolkit_V26/requirements.txt (line 3)) (1.17.1)\n",
            "Requirement already satisfied: pycparser in /usr/local/lib/python3.12/dist-packages (from cffi>=1.0.1->argon2-cffi-bindings->argon2-cffi->notebook->-r /content/drive/MyDrive/WaterMinder_Toolkit_V26/requirements.txt (line 3)) (2.22)\n",
            "Requirement already satisfied: soupsieve>1.2 in /usr/local/lib/python3.12/dist-packages (from beautifulsoup4->nbconvert>=5->notebook->-r /content/drive/MyDrive/WaterMinder_Toolkit_V26/requirements.txt (line 3)) (2.7)\n",
            "Collecting humanfriendly>=9.1 (from coloredlogs->tamm~=0.1.0->-r /content/drive/MyDrive/WaterMinder_Toolkit_V26/requirements.txt (line 7))\n",
            "  Downloading humanfriendly-10.0-py2.py3-none-any.whl.metadata (9.2 kB)\n",
            "Requirement already satisfied: debugpy>=1.0 in /usr/local/lib/python3.12/dist-packages (from ipykernel->notebook->-r /content/drive/MyDrive/WaterMinder_Toolkit_V26/requirements.txt (line 3)) (1.8.15)\n",
            "Requirement already satisfied: ipython>=7.23.1 in /usr/local/lib/python3.12/dist-packages (from ipykernel->notebook->-r /content/drive/MyDrive/WaterMinder_Toolkit_V26/requirements.txt (line 3)) (7.34.0)\n",
            "Requirement already satisfied: matplotlib-inline>=0.1 in /usr/local/lib/python3.12/dist-packages (from ipykernel->notebook->-r /content/drive/MyDrive/WaterMinder_Toolkit_V26/requirements.txt (line 3)) (0.1.7)\n",
            "Requirement already satisfied: psutil in /usr/local/lib/python3.12/dist-packages (from ipykernel->notebook->-r /content/drive/MyDrive/WaterMinder_Toolkit_V26/requirements.txt (line 3)) (5.9.5)\n",
            "Collecting jedi>=0.16 (from ipython>=7.23.1->ipykernel->notebook->-r /content/drive/MyDrive/WaterMinder_Toolkit_V26/requirements.txt (line 3))\n",
            "  Downloading jedi-0.19.2-py2.py3-none-any.whl.metadata (22 kB)\n",
            "Requirement already satisfied: decorator in /usr/local/lib/python3.12/dist-packages (from ipython>=7.23.1->ipykernel->notebook->-r /content/drive/MyDrive/WaterMinder_Toolkit_V26/requirements.txt (line 3)) (4.4.2)\n",
            "Requirement already satisfied: pickleshare in /usr/local/lib/python3.12/dist-packages (from ipython>=7.23.1->ipykernel->notebook->-r /content/drive/MyDrive/WaterMinder_Toolkit_V26/requirements.txt (line 3)) (0.7.5)\n",
            "Requirement already satisfied: prompt-toolkit!=3.0.0,!=3.0.1,<3.1.0,>=2.0.0 in /usr/local/lib/python3.12/dist-packages (from ipython>=7.23.1->ipykernel->notebook->-r /content/drive/MyDrive/WaterMinder_Toolkit_V26/requirements.txt (line 3)) (3.0.51)\n",
            "Requirement already satisfied: backcall in /usr/local/lib/python3.12/dist-packages (from ipython>=7.23.1->ipykernel->notebook->-r /content/drive/MyDrive/WaterMinder_Toolkit_V26/requirements.txt (line 3)) (0.2.0)\n",
            "Requirement already satisfied: pexpect>4.3 in /usr/local/lib/python3.12/dist-packages (from ipython>=7.23.1->ipykernel->notebook->-r /content/drive/MyDrive/WaterMinder_Toolkit_V26/requirements.txt (line 3)) (4.9.0)\n",
            "Requirement already satisfied: wcwidth in /usr/local/lib/python3.12/dist-packages (from prompt-toolkit!=3.0.0,!=3.0.1,<3.1.0,>=2.0.0->ipython>=7.23.1->ipykernel->notebook->-r /content/drive/MyDrive/WaterMinder_Toolkit_V26/requirements.txt (line 3)) (0.2.13)\n",
            "Requirement already satisfied: parso<0.9.0,>=0.8.4 in /usr/local/lib/python3.12/dist-packages (from jedi>=0.16->ipython>=7.23.1->ipykernel->notebook->-r /content/drive/MyDrive/WaterMinder_Toolkit_V26/requirements.txt (line 3)) (0.8.4)\n",
            "Requirement already satisfied: PyYAML in /usr/local/lib/python3.12/dist-packages (from pyaml->coremltools==8.3.0->-r /content/drive/MyDrive/WaterMinder_Toolkit_V26/requirements.txt (line 5)) (6.0.2)\n",
            "Downloading coremltools-8.3.0-cp312-none-manylinux1_x86_64.whl (2.3 MB)\n",
            "\u001b[2K   \u001b[90m━━━━━━━━━━━━━━━━━━━━━━━━━━━━━━━━━━━━━━━━\u001b[0m \u001b[32m2.3/2.3 MB\u001b[0m \u001b[31m31.7 MB/s\u001b[0m  \u001b[33m0:00:00\u001b[0m\n",
            "\u001b[?25hDownloading tamm-0.1.0-py3-none-any.whl (362 kB)\n",
            "Downloading cattrs-25.1.1-py3-none-any.whl (69 kB)\n",
            "Downloading coloredlogs-15.0.1-py2.py3-none-any.whl (46 kB)\n",
            "Downloading humanfriendly-10.0-py2.py3-none-any.whl (86 kB)\n",
            "Downloading jedi-0.19.2-py2.py3-none-any.whl (1.6 MB)\n",
            "\u001b[2K   \u001b[90m━━━━━━━━━━━━━━━━━━━━━━━━━━━━━━━━━━━━━━━━\u001b[0m \u001b[32m1.6/1.6 MB\u001b[0m \u001b[31m70.3 MB/s\u001b[0m  \u001b[33m0:00:00\u001b[0m\n",
            "\u001b[?25hDownloading pyaml-25.7.0-py3-none-any.whl (26 kB)\n",
            "Installing collected packages: pyaml, jedi, humanfriendly, cattrs, coremltools, coloredlogs, tamm\n",
            "\u001b[2K   \u001b[90m━━━━━━━━━━━━━━━━━━━━━━━━━━━━━━━━━━━━━━━━\u001b[0m \u001b[32m7/7\u001b[0m [tamm]\n",
            "\u001b[1A\u001b[2KSuccessfully installed cattrs-25.1.1 coloredlogs-15.0.1 coremltools-8.3.0 humanfriendly-10.0 jedi-0.19.2 pyaml-25.7.0 tamm-0.1.0\n",
            "Collecting StrEnum\n",
            "  Downloading StrEnum-0.4.15-py3-none-any.whl.metadata (5.3 kB)\n",
            "Downloading StrEnum-0.4.15-py3-none-any.whl (8.9 kB)\n",
            "Installing collected packages: StrEnum\n",
            "Successfully installed StrEnum-0.4.15\n"
          ]
        }
      ]
    },
    {
      "cell_type": "code",
      "source": [
        "!python --version"
      ],
      "metadata": {
        "colab": {
          "base_uri": "https://localhost:8080/"
        },
        "id": "oa4QznamGF-R",
        "outputId": "5ea942e3-a84a-40fd-89a5-e663888195ab"
      },
      "execution_count": null,
      "outputs": [
        {
          "output_type": "stream",
          "name": "stdout",
          "text": [
            "Python 3.12.11\n"
          ]
        }
      ]
    },
    {
      "cell_type": "code",
      "source": [
        "# Block 1: Run this only once per session\n",
        "import os\n",
        "import shutil\n",
        "from pathlib import Path\n",
        "\n",
        "print(\"Starting one-time setup...\")\n",
        "\n",
        "# 1. Define source and destination paths\n",
        "source_path = Path(\"/content/drive/MyDrive/WaterMinder_Toolkit_V26\")\n",
        "destination_path = Path(\"/content/WaterMinder\")\n",
        "\n",
        "# 2. Copy the entire toolkit to the new writable directory\n",
        "if destination_path.exists():\n",
        "    print(f\"'{destination_path.name}' already exists. Removing it.\")\n",
        "    shutil.rmtree(destination_path)\n",
        "print(f\"Copying toolkit to '{destination_path}'...\")\n",
        "shutil.copytree(source_path, destination_path)\n",
        "\n",
        "# 3. Create the necessary '__init__.py' files to make it a package\n",
        "print(\"Creating package files...\")\n",
        "(destination_path / \"__init__.py\").touch()\n",
        "(destination_path / \"examples\" / \"__init__.py\").touch()\n",
        "\n",
        "# Check if the 'utils' subdirectory exists and add an __init__.py there too\n",
        "if (destination_path / \"examples\" / \"utils\").is_dir():\n",
        "    (destination_path / \"examples\" / \"utils\" / \"__init__.py\").touch()\n",
        "\n",
        "print(\"\\n✅ One-time setup complete. You can now run the main code block.\")"
      ],
      "metadata": {
        "colab": {
          "base_uri": "https://localhost:8080/"
        },
        "id": "UndAe3c-GGwZ",
        "outputId": "b282f1e5-4e01-4ba5-ff31-acf63a4b0fe6"
      },
      "execution_count": null,
      "outputs": [
        {
          "output_type": "stream",
          "name": "stdout",
          "text": [
            "Starting one-time setup...\n",
            "Copying toolkit to '/content/WaterMinder'...\n",
            "Creating package files...\n",
            "\n",
            "✅ One-time setup complete. You can now run the main code block.\n"
          ]
        }
      ]
    },
    {
      "cell_type": "code",
      "source": [
        "import shutil\n",
        "from pathlib import Path\n",
        "\n",
        "print(\"Starting file setup...\")\n",
        "\n",
        "# Define source and destination paths for the main data\n",
        "source_path_data = Path(\"/content/drive/MyDrive/WaterMinder_Model_V26\")\n",
        "destination_path_data = Path(\"/content/WaterMinder_Model\")\n",
        "\n",
        "# Copy the data toolkit to the Colab environment\n",
        "if destination_path_data.exists():\n",
        "    shutil.rmtree(destination_path_data)\n",
        "print(f\"Copying data to '{destination_path_data}'...\")\n",
        "shutil.copytree(source_path_data, destination_path_data)\n",
        "\n",
        "print(\"\\n✅ Model setup is complete.\")"
      ],
      "metadata": {
        "colab": {
          "base_uri": "https://localhost:8080/"
        },
        "id": "tVxmW2-lGylk",
        "outputId": "1daeec52-41c1-4a82-9f92-26c440dfcd9a"
      },
      "execution_count": null,
      "outputs": [
        {
          "output_type": "stream",
          "name": "stdout",
          "text": [
            "Starting file setup...\n",
            "Copying data to '/content/WaterMinder_Model'...\n",
            "\n",
            "✅ Model setup is complete.\n"
          ]
        }
      ]
    },
    {
      "cell_type": "code",
      "source": [
        "# Path to the file that needs to be fixed\n",
        "file_to_patch = \"/content/WaterMinder/export/export_fmadapter.py\"\n",
        "\n",
        "try:\n",
        "    with open(file_to_patch, 'r') as f:\n",
        "        content = f.read()\n",
        "\n",
        "    # Check if the file has already been patched\n",
        "    if \"from strenum import StrEnum\" not in content:\n",
        "        # Add the correct import at the top of the file\n",
        "        content = \"from strenum import StrEnum\\n\" + content\n",
        "        # Replace the incorrect class inheritance\n",
        "        content = content.replace(\"class MetadataKeys(enum.StrEnum):\", \"class MetadataKeys(StrEnum):\")\n",
        "\n",
        "        with open(file_to_patch, 'w') as f:\n",
        "            f.write(content)\n",
        "        print(\"✅ Successfully patched 'export_fmadapter.py' to fix the StrEnum error.\")\n",
        "    else:\n",
        "        print(\"✅ File is already patched.\")\n",
        "\n",
        "except FileNotFoundError:\n",
        "    print(f\"❌ Error: The file {file_to_patch} was not found. Please check your file paths.\")"
      ],
      "metadata": {
        "colab": {
          "base_uri": "https://localhost:8080/"
        },
        "id": "kc-l_K9NHTfZ",
        "outputId": "acaab957-4147-4900-964d-5cd38d12cebf"
      },
      "execution_count": null,
      "outputs": [
        {
          "output_type": "stream",
          "name": "stdout",
          "text": [
            "✅ Successfully patched 'export_fmadapter.py' to fix the StrEnum error.\n"
          ]
        }
      ]
    },
    {
      "cell_type": "code",
      "source": [
        "import os\n",
        "\n",
        "file_to_patch = '/content/WaterMinder/export/export_utils.py'\n",
        "\n",
        "if os.path.exists(file_to_patch):\n",
        "    with open(file_to_patch, 'r') as f:\n",
        "        content = f.read()\n",
        "\n",
        "    # Replace the incorrect import with a correct relative import\n",
        "    # The leading dot tells Python to look inside the current 'export' directory\n",
        "    new_content = content.replace(\n",
        "        \"from export.constants import WEIGHT_SPEC, WEIGHTS_TEMPLATE\",\n",
        "        \"from .constants import WEIGHT_SPEC, WEIGHTS_TEMPLATE\"\n",
        "    )\n",
        "\n",
        "    if new_content != content:\n",
        "        with open(file_to_patch, 'w') as f:\n",
        "            f.write(new_content)\n",
        "        print(\"✅ Successfully patched 'export_utils.py'.\")\n",
        "    else:\n",
        "        print(\"✅ File appears to be already patched.\")\n",
        "\n",
        "else:\n",
        "    print(f\"❌ Error: The file {file_to_patch} was not found.\")"
      ],
      "metadata": {
        "colab": {
          "base_uri": "https://localhost:8080/"
        },
        "id": "uHY1AgzxH1of",
        "outputId": "ce80bf7c-743f-4daf-bd1f-d07ef75cecb6"
      },
      "execution_count": null,
      "outputs": [
        {
          "output_type": "stream",
          "name": "stdout",
          "text": [
            "✅ Successfully patched 'export_utils.py'.\n"
          ]
        }
      ]
    },
    {
      "cell_type": "code",
      "source": [
        "import os\n",
        "\n",
        "file_to_patch = '/content/WaterMinder/export/produce_asset_pack.py'\n",
        "\n",
        "if os.path.exists(file_to_patch):\n",
        "    with open(file_to_patch, 'r') as f:\n",
        "        content = f.read()\n",
        "\n",
        "    # Replace the incorrect import with a correct relative import\n",
        "    # The leading dot tells Python to look inside the current 'export' directory\n",
        "    new_content = content.replace(\n",
        "        \"from export.constants import WEIGHT_SPEC, WEIGHTS_TEMPLATE\",\n",
        "        \"from .constants import WEIGHT_SPEC, WEIGHTS_TEMPLATE\"\n",
        "    )\n",
        "\n",
        "    if new_content != content:\n",
        "        with open(file_to_patch, 'w') as f:\n",
        "            f.write(new_content)\n",
        "        print(\"✅ Successfully patched 'produce_asset_pack.py'.\")\n",
        "    else:\n",
        "        print(\"✅ File appears to be already patched.\")\n",
        "\n",
        "else:\n",
        "    print(f\"❌ Error: The file {file_to_patch} was not found.\")"
      ],
      "metadata": {
        "colab": {
          "base_uri": "https://localhost:8080/"
        },
        "id": "M86kH0vJKXYP",
        "outputId": "6767ab1a-2227-4010-c0a5-3eb0c78129bf"
      },
      "execution_count": null,
      "outputs": [
        {
          "output_type": "stream",
          "name": "stdout",
          "text": [
            "✅ File appears to be already patched.\n"
          ]
        }
      ]
    },
    {
      "cell_type": "code",
      "source": [
        "# Uninstall existing versions to avoid conflicts\n",
        "!pip uninstall -y scikit-learn xgboost tensorflow torch coremltools\n",
        "\n",
        "# Install compatible versions of the libraries\n",
        "# We use --no-cache-dir to ensure a fresh download and install\n",
        "print(\"\\nInstalling compatible libraries...\")\n",
        "!pip install --no-cache-dir \"scikit-learn<=1.5.1\" \"xgboost==1.4.2\" \"tensorflow==2.12.0\" \"torch==2.5.0\" \"coremltools\"\n",
        "\n",
        "# Verify the coremltools installation\n",
        "print(\"\\nVerifying coremltools installation...\")\n",
        "import coremltools\n",
        "print(\"✅ coremltools imported successfully!\")\n",
        "\n",
        "# You can also check the versions of the installed packages\n",
        "print(\"\\n--- Installed Versions ---\")\n",
        "!pip show scikit-learn | grep Version\n",
        "!pip show xgboost | grep Version\n",
        "!pip show tensorflow | grep Version\n",
        "!pip show torch | grep Version\n",
        "!pip show coremltools | grep Version\n",
        "print(\"--------------------------\")\n",
        "\n",
        "print(\"\\nYour Colab environment is now set up correctly.\")"
      ],
      "metadata": {
        "colab": {
          "base_uri": "https://localhost:8080/"
        },
        "id": "8RUlO1zyJfqG",
        "outputId": "d491c6d7-9d7e-4270-e32c-0d5c58bf505d"
      },
      "execution_count": null,
      "outputs": [
        {
          "output_type": "stream",
          "name": "stdout",
          "text": [
            "Found existing installation: scikit-learn 1.6.1\n",
            "Uninstalling scikit-learn-1.6.1:\n",
            "  Successfully uninstalled scikit-learn-1.6.1\n",
            "Found existing installation: xgboost 3.0.4\n",
            "Uninstalling xgboost-3.0.4:\n",
            "  Successfully uninstalled xgboost-3.0.4\n",
            "Found existing installation: tensorflow 2.19.0\n",
            "Uninstalling tensorflow-2.19.0:\n",
            "  Successfully uninstalled tensorflow-2.19.0\n",
            "Found existing installation: torch 2.8.0+cu126\n",
            "Uninstalling torch-2.8.0+cu126:\n",
            "  Successfully uninstalled torch-2.8.0+cu126\n",
            "Found existing installation: coremltools 8.3.0\n",
            "Uninstalling coremltools-8.3.0:\n",
            "  Successfully uninstalled coremltools-8.3.0\n",
            "\n",
            "Installing compatible libraries...\n",
            "Collecting scikit-learn<=1.5.1\n",
            "  Downloading scikit_learn-1.5.1-cp312-cp312-manylinux_2_17_x86_64.manylinux2014_x86_64.whl.metadata (12 kB)\n",
            "Collecting xgboost==1.4.2\n",
            "  Downloading xgboost-1.4.2-py3-none-manylinux2010_x86_64.whl.metadata (1.7 kB)\n",
            "\u001b[31mERROR: Could not find a version that satisfies the requirement tensorflow==2.12.0 (from versions: 2.16.0rc0, 2.16.1, 2.16.2, 2.17.0rc0, 2.17.0rc1, 2.17.0, 2.17.1, 2.18.0rc0, 2.18.0rc1, 2.18.0rc2, 2.18.0, 2.18.1, 2.19.0rc0, 2.19.0, 2.19.1, 2.20.0rc0, 2.20.0)\u001b[0m\u001b[31m\n",
            "\u001b[0m\u001b[31mERROR: No matching distribution found for tensorflow==2.12.0\u001b[0m\u001b[31m\n",
            "\u001b[0m\n",
            "Verifying coremltools installation...\n",
            "✅ coremltools imported successfully!\n",
            "\n",
            "--- Installed Versions ---\n",
            "\u001b[33mWARNING: Package(s) not found: scikit-learn\u001b[0m\u001b[33m\n",
            "\u001b[0m\u001b[33mWARNING: Package(s) not found: xgboost\u001b[0m\u001b[33m\n",
            "\u001b[0m\u001b[33mWARNING: Package(s) not found: tensorflow\u001b[0m\u001b[33m\n",
            "\u001b[0m\u001b[33mWARNING: Package(s) not found: torch\u001b[0m\u001b[33m\n",
            "\u001b[0m\u001b[33mWARNING: Package(s) not found: coremltools\u001b[0m\u001b[33m\n",
            "\u001b[0m--------------------------\n",
            "\n",
            "Your Colab environment is now set up correctly.\n"
          ]
        }
      ]
    },
    {
      "cell_type": "code",
      "source": [
        "from WaterMinder.export.export_fmadapter import Metadata, export_fmadapter\n",
        "\n",
        "metadata = Metadata(\n",
        "    author=\"FunnMedia Developer\",\n",
        "    description=\"An adapter that writes WaterMinder Guide.\",\n",
        ")\n",
        "\n",
        "export_fmadapter(\n",
        "    output_dir=\"/content/Export_model\",\n",
        "    adapter_name=\"WM_Adapter_V26\",\n",
        "    metadata=metadata,\n",
        "    checkpoint=\"/content/WaterMinder_Model/adapter-final.pt\",\n",
        "    draft_checkpoint=\"/content/WaterMinder_Model/draft-model-final.pt\",\n",
        ")\n",
        "\n",
        "print(\"\\n🎉 Model export process finished successfully!\")"
      ],
      "metadata": {
        "colab": {
          "base_uri": "https://localhost:8080/"
        },
        "id": "jn6ZciUMIKcD",
        "outputId": "e18ae688-21f1-4b74-b046-951db0de6afc"
      },
      "execution_count": null,
      "outputs": [
        {
          "output_type": "stream",
          "name": "stderr",
          "text": [
            "WARNING:root:/content/Export_model/WM_Adapter_V26.fmadapter exists and will be overwritten\n"
          ]
        },
        {
          "output_type": "stream",
          "name": "stdout",
          "text": [
            "\n",
            "🎉 Model export process finished successfully!\n"
          ]
        }
      ]
    },
    {
      "cell_type": "code",
      "source": [],
      "metadata": {
        "id": "6kklxRGLKTL3"
      },
      "execution_count": null,
      "outputs": []
    }
  ]
}